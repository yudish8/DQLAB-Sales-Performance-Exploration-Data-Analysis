{
 "cells": [
  {
   "cell_type": "markdown",
   "metadata": {},
   "source": [
    "Link for Dashboard Visualization using Tableau : <br>\n",
    "https://public.tableau.com/app/profile/yudis.aditya/viz/DashboardDQLabSalesPerformance/Dashboard_Visualization_Performance_Year?publish=yes"
   ]
  },
  {
   "cell_type": "markdown",
   "metadata": {},
   "source": [
    "============================= <br><br>\n",
    "This noteboook is used for : \n",
    "1. Business Understanding \n",
    "2. Data Exploration \n",
    "3. Data Cleaning \n",
    "4. Analysis Statistic \n",
    "5. Conclusion \n",
    "\n",
    "This 5 point above will use data from sales_performance.csv\n",
    "\n",
    "==============================\n"
   ]
  },
  {
   "cell_type": "markdown",
   "metadata": {},
   "source": [
    "<h1>1. Identification Problem </h1>\n",
    "<h3>1.1 Background</h3>\n",
    "<p>\n",
    "Me as Data Analyst have a task from DQLab to make analyze data to increase sales and decrase order status that not completed. Also i need to make dashboard to visualize my analyze so my client can more easy to understand my insight\n",
    "</p>\n",
    "<h3>1.2 Problem Statement</h3>\n",
    "<p>\n",
    "With using SMART Framework i make problem statement like this : <br>\n",
    "\"The goal is to increase sales for 10 % and decrase order that not finished for 5% from previous year within the next year. To achieve that me as data analyst have to find out many factor that has possibility to increase sales and decrase order that not finished.\"<br><br>\n",
    "To ease my analysis and solve the problem, i will use method 5W + 1 H to make my problem become modular like this : <br>\n",
    "- How many order qty that suitable for each product category for promotion ? <br> \n",
    "- How are order status performance for each year ? <br> \n",
    "- How are product category performance for each year ? <br> \n",
    "- Who are the top 5 customer ?  <br>  \n",
    "- How performance sales and order qty for each year ? <br> \n",
    "- How impact discount with sales and order status ? <br> <br>\n",
    "\n",
    "From my problem statement, the metrics i used is sales and order_status <br><br>\n",
    "\n",
    "</p>"
   ]
  },
  {
   "cell_type": "code",
   "execution_count": 1,
   "metadata": {},
   "outputs": [],
   "source": [
    "# import package that need for this notebook \n",
    "import pandas as pd\n",
    "import matplotlib.pyplot as plt \n",
    "import numpy as np\n",
    "from scipy import stats\n",
    "import seaborn as sns"
   ]
  },
  {
   "cell_type": "markdown",
   "metadata": {},
   "source": [
    "<h1>2. Data Loading</h1>"
   ]
  },
  {
   "cell_type": "code",
   "execution_count": 3,
   "metadata": {},
   "outputs": [],
   "source": [
    "# load file sales_performance.csv to datagrame df \n",
    "df = pd.read_csv('sales_performance.csv')"
   ]
  },
  {
   "cell_type": "markdown",
   "metadata": {},
   "source": [
    "<h3>2.1 Quick Overview Dataset</h3>"
   ]
  },
  {
   "cell_type": "code",
   "execution_count": 4,
   "metadata": {},
   "outputs": [
    {
     "data": {
      "text/html": [
       "<div>\n",
       "<style scoped>\n",
       "    .dataframe tbody tr th:only-of-type {\n",
       "        vertical-align: middle;\n",
       "    }\n",
       "\n",
       "    .dataframe tbody tr th {\n",
       "        vertical-align: top;\n",
       "    }\n",
       "\n",
       "    .dataframe thead th {\n",
       "        text-align: right;\n",
       "    }\n",
       "</style>\n",
       "<table border=\"1\" class=\"dataframe\">\n",
       "  <thead>\n",
       "    <tr style=\"text-align: right;\">\n",
       "      <th></th>\n",
       "      <th>order_id</th>\n",
       "      <th>order_status</th>\n",
       "      <th>customer</th>\n",
       "      <th>order_date</th>\n",
       "      <th>order_quantity</th>\n",
       "      <th>sales</th>\n",
       "      <th>discount</th>\n",
       "      <th>discount_value</th>\n",
       "      <th>product_category</th>\n",
       "      <th>product_sub_category</th>\n",
       "    </tr>\n",
       "  </thead>\n",
       "  <tbody>\n",
       "    <tr>\n",
       "      <th>0</th>\n",
       "      <td>3</td>\n",
       "      <td>Order Finished</td>\n",
       "      <td>Muhammed Mac Intyre</td>\n",
       "      <td>2010-10-13</td>\n",
       "      <td>6</td>\n",
       "      <td>523080</td>\n",
       "      <td>0.04</td>\n",
       "      <td>20923</td>\n",
       "      <td>Office Supplies</td>\n",
       "      <td>Storage &amp; Organization</td>\n",
       "    </tr>\n",
       "    <tr>\n",
       "      <th>1</th>\n",
       "      <td>293</td>\n",
       "      <td>Order Finished</td>\n",
       "      <td>Barry French</td>\n",
       "      <td>2012-10-01</td>\n",
       "      <td>49</td>\n",
       "      <td>20246040</td>\n",
       "      <td>0.07</td>\n",
       "      <td>1417223</td>\n",
       "      <td>Office Supplies</td>\n",
       "      <td>Appliances</td>\n",
       "    </tr>\n",
       "    <tr>\n",
       "      <th>2</th>\n",
       "      <td>483</td>\n",
       "      <td>Order Finished</td>\n",
       "      <td>Clay Rozendal</td>\n",
       "      <td>2011-07-10</td>\n",
       "      <td>30</td>\n",
       "      <td>9931519</td>\n",
       "      <td>0.08</td>\n",
       "      <td>794522</td>\n",
       "      <td>Technology</td>\n",
       "      <td>Telephones &amp; Communication</td>\n",
       "    </tr>\n",
       "    <tr>\n",
       "      <th>3</th>\n",
       "      <td>515</td>\n",
       "      <td>Order Finished</td>\n",
       "      <td>Carlos Soltero</td>\n",
       "      <td>2010-08-28</td>\n",
       "      <td>19</td>\n",
       "      <td>788540</td>\n",
       "      <td>0.08</td>\n",
       "      <td>63083</td>\n",
       "      <td>Office Supplies</td>\n",
       "      <td>Appliances</td>\n",
       "    </tr>\n",
       "    <tr>\n",
       "      <th>4</th>\n",
       "      <td>613</td>\n",
       "      <td>Order Finished</td>\n",
       "      <td>Carl Jackson</td>\n",
       "      <td>2011-06-17</td>\n",
       "      <td>12</td>\n",
       "      <td>187080</td>\n",
       "      <td>0.03</td>\n",
       "      <td>5612</td>\n",
       "      <td>Office Supplies</td>\n",
       "      <td>Binders &amp; Binder Accessories</td>\n",
       "    </tr>\n",
       "  </tbody>\n",
       "</table>\n",
       "</div>"
      ],
      "text/plain": [
       "   order_id    order_status             customer  order_date  order_quantity  \\\n",
       "0         3  Order Finished  Muhammed Mac Intyre  2010-10-13               6   \n",
       "1       293  Order Finished         Barry French  2012-10-01              49   \n",
       "2       483  Order Finished        Clay Rozendal  2011-07-10              30   \n",
       "3       515  Order Finished       Carlos Soltero  2010-08-28              19   \n",
       "4       613  Order Finished         Carl Jackson  2011-06-17              12   \n",
       "\n",
       "      sales  discount  discount_value product_category  \\\n",
       "0    523080      0.04           20923  Office Supplies   \n",
       "1  20246040      0.07         1417223  Office Supplies   \n",
       "2   9931519      0.08          794522       Technology   \n",
       "3    788540      0.08           63083  Office Supplies   \n",
       "4    187080      0.03            5612  Office Supplies   \n",
       "\n",
       "           product_sub_category  \n",
       "0        Storage & Organization  \n",
       "1                    Appliances  \n",
       "2    Telephones & Communication  \n",
       "3                    Appliances  \n",
       "4  Binders & Binder Accessories  "
      ]
     },
     "execution_count": 4,
     "metadata": {},
     "output_type": "execute_result"
    }
   ],
   "source": [
    "# get 5 data from above df\n",
    "df.head()"
   ]
  },
  {
   "cell_type": "code",
   "execution_count": 5,
   "metadata": {},
   "outputs": [
    {
     "data": {
      "text/html": [
       "<div>\n",
       "<style scoped>\n",
       "    .dataframe tbody tr th:only-of-type {\n",
       "        vertical-align: middle;\n",
       "    }\n",
       "\n",
       "    .dataframe tbody tr th {\n",
       "        vertical-align: top;\n",
       "    }\n",
       "\n",
       "    .dataframe thead th {\n",
       "        text-align: right;\n",
       "    }\n",
       "</style>\n",
       "<table border=\"1\" class=\"dataframe\">\n",
       "  <thead>\n",
       "    <tr style=\"text-align: right;\">\n",
       "      <th></th>\n",
       "      <th>order_id</th>\n",
       "      <th>order_status</th>\n",
       "      <th>customer</th>\n",
       "      <th>order_date</th>\n",
       "      <th>order_quantity</th>\n",
       "      <th>sales</th>\n",
       "      <th>discount</th>\n",
       "      <th>discount_value</th>\n",
       "      <th>product_category</th>\n",
       "      <th>product_sub_category</th>\n",
       "    </tr>\n",
       "  </thead>\n",
       "  <tbody>\n",
       "    <tr>\n",
       "      <th>5494</th>\n",
       "      <td>47360</td>\n",
       "      <td>Order Finished</td>\n",
       "      <td>Philip Brown</td>\n",
       "      <td>2010-10-08</td>\n",
       "      <td>25</td>\n",
       "      <td>4401280</td>\n",
       "      <td>0.05</td>\n",
       "      <td>220064</td>\n",
       "      <td>Furniture</td>\n",
       "      <td>Chairs &amp; Chairmats</td>\n",
       "    </tr>\n",
       "    <tr>\n",
       "      <th>5495</th>\n",
       "      <td>52706</td>\n",
       "      <td>Order Finished</td>\n",
       "      <td>Paul Prost</td>\n",
       "      <td>2012-07-09</td>\n",
       "      <td>34</td>\n",
       "      <td>2083320</td>\n",
       "      <td>0.02</td>\n",
       "      <td>41666</td>\n",
       "      <td>Office Supplies</td>\n",
       "      <td>Binders &amp; Binder Accessories</td>\n",
       "    </tr>\n",
       "    <tr>\n",
       "      <th>5496</th>\n",
       "      <td>54279</td>\n",
       "      <td>Order Finished</td>\n",
       "      <td>Lisa De Cherney</td>\n",
       "      <td>2011-07-30</td>\n",
       "      <td>41</td>\n",
       "      <td>20142180</td>\n",
       "      <td>0.10</td>\n",
       "      <td>2014218</td>\n",
       "      <td>Technology</td>\n",
       "      <td>Office Machines</td>\n",
       "    </tr>\n",
       "    <tr>\n",
       "      <th>5497</th>\n",
       "      <td>55558</td>\n",
       "      <td>Order Finished</td>\n",
       "      <td>Philip Brown</td>\n",
       "      <td>2010-08-09</td>\n",
       "      <td>8</td>\n",
       "      <td>2588080</td>\n",
       "      <td>0.05</td>\n",
       "      <td>129404</td>\n",
       "      <td>Furniture</td>\n",
       "      <td>Bookcases</td>\n",
       "    </tr>\n",
       "    <tr>\n",
       "      <th>5498</th>\n",
       "      <td>56581</td>\n",
       "      <td>Order Finished</td>\n",
       "      <td>Lisa De Cherney</td>\n",
       "      <td>2009-02-08</td>\n",
       "      <td>20</td>\n",
       "      <td>4052020</td>\n",
       "      <td>0.10</td>\n",
       "      <td>405202</td>\n",
       "      <td>Furniture</td>\n",
       "      <td>Office Furnishings</td>\n",
       "    </tr>\n",
       "  </tbody>\n",
       "</table>\n",
       "</div>"
      ],
      "text/plain": [
       "      order_id    order_status         customer  order_date  order_quantity  \\\n",
       "5494     47360  Order Finished     Philip Brown  2010-10-08              25   \n",
       "5495     52706  Order Finished       Paul Prost  2012-07-09              34   \n",
       "5496     54279  Order Finished  Lisa De Cherney  2011-07-30              41   \n",
       "5497     55558  Order Finished     Philip Brown  2010-08-09               8   \n",
       "5498     56581  Order Finished  Lisa De Cherney  2009-02-08              20   \n",
       "\n",
       "         sales  discount  discount_value product_category  \\\n",
       "5494   4401280      0.05          220064        Furniture   \n",
       "5495   2083320      0.02           41666  Office Supplies   \n",
       "5496  20142180      0.10         2014218       Technology   \n",
       "5497   2588080      0.05          129404        Furniture   \n",
       "5498   4052020      0.10          405202        Furniture   \n",
       "\n",
       "              product_sub_category  \n",
       "5494            Chairs & Chairmats  \n",
       "5495  Binders & Binder Accessories  \n",
       "5496               Office Machines  \n",
       "5497                     Bookcases  \n",
       "5498            Office Furnishings  "
      ]
     },
     "execution_count": 5,
     "metadata": {},
     "output_type": "execute_result"
    }
   ],
   "source": [
    "# get 5 data from bottom df\n",
    "df.tail()"
   ]
  },
  {
   "cell_type": "code",
   "execution_count": 4,
   "metadata": {},
   "outputs": [
    {
     "name": "stdout",
     "output_type": "stream",
     "text": [
      "<class 'pandas.core.frame.DataFrame'>\n",
      "RangeIndex: 5499 entries, 0 to 5498\n",
      "Data columns (total 10 columns):\n",
      " #   Column                Non-Null Count  Dtype  \n",
      "---  ------                --------------  -----  \n",
      " 0   order_id              5499 non-null   int64  \n",
      " 1   order_status          5499 non-null   object \n",
      " 2   customer              5499 non-null   object \n",
      " 3   order_date            5499 non-null   object \n",
      " 4   order_quantity        5499 non-null   int64  \n",
      " 5   sales                 5499 non-null   int64  \n",
      " 6   discount              5499 non-null   float64\n",
      " 7   discount_value        5499 non-null   int64  \n",
      " 8   product_category      5499 non-null   object \n",
      " 9   product_sub_category  5499 non-null   object \n",
      "dtypes: float64(1), int64(4), object(5)\n",
      "memory usage: 429.7+ KB\n"
     ]
    }
   ],
   "source": [
    "# get information about every coulm name, missing value, data type, and total row \n",
    "df.info()"
   ]
  },
  {
   "cell_type": "markdown",
   "metadata": {},
   "source": [
    "In above code we can get information about column in sales performance data, there are: \n",
    "- order_id = unique order number \n",
    "- order_status = status of the order, whether is finished or returned \n",
    "- customer = customer name \n",
    "- order_date = date of the order \n",
    "- order_quantity = the quantity on a particular order \n",
    "- sales = sales generated on a particular order, the value is in IDR(Indonesia Rupiah) currency \n",
    "- discount = a discount percentage \n",
    "- discount_value = a sales multiply by discount, the value is in IDR(Indonesia Rupiah) durrency \n",
    "- product_category = a category of the product \n",
    "- product_sub_category = a subcategory from product category \n",
    "\n",
    "In these column i can see that all column has a right data type except \"order_date\" that should be data type date. Our data doesn't have missing value. And we have row total data 5499<br><br>\n",
    "\n",
    "From these column, that include column categorial nominal are: \n",
    "- order_id\n",
    "- order_status\n",
    "- customer\n",
    "- product_category\n",
    "- product_sub_category\n",
    "\n",
    "From these column, that include column categorial ordinal are: \n",
    "- order_date\n",
    "\n",
    "From these column, that include column numeric continues are : \n",
    "- order_quantity\n",
    "- sales\n",
    "- discount\n",
    "- discount_value\n",
    "\n",
    "From all column in my dataset , i plan to remove these column : \n",
    "- order_id = Because it is unique data and is not needed for data analysis \n",
    "- discount_value = Because it can be replaced by column discount.\n"
   ]
  },
  {
   "cell_type": "markdown",
   "metadata": {},
   "source": [
    "## 2.2 Check and Handling Data Duplicated"
   ]
  },
  {
   "cell_type": "code",
   "execution_count": 10,
   "metadata": {},
   "outputs": [
    {
     "data": {
      "text/plain": [
       "0"
      ]
     },
     "execution_count": 10,
     "metadata": {},
     "output_type": "execute_result"
    }
   ],
   "source": [
    "# Check data duplicated in my dataset\n",
    "df.duplicated().sum()"
   ]
  },
  {
   "cell_type": "markdown",
   "metadata": {},
   "source": [
    "From Here we can know that there is no duplicate data in my dataset based on all column"
   ]
  },
  {
   "cell_type": "code",
   "execution_count": 11,
   "metadata": {},
   "outputs": [
    {
     "data": {
      "text/html": [
       "<div>\n",
       "<style scoped>\n",
       "    .dataframe tbody tr th:only-of-type {\n",
       "        vertical-align: middle;\n",
       "    }\n",
       "\n",
       "    .dataframe tbody tr th {\n",
       "        vertical-align: top;\n",
       "    }\n",
       "\n",
       "    .dataframe thead th {\n",
       "        text-align: right;\n",
       "    }\n",
       "</style>\n",
       "<table border=\"1\" class=\"dataframe\">\n",
       "  <thead>\n",
       "    <tr style=\"text-align: right;\">\n",
       "      <th></th>\n",
       "      <th>order_id</th>\n",
       "      <th>order_status</th>\n",
       "      <th>customer</th>\n",
       "      <th>order_date</th>\n",
       "      <th>order_quantity</th>\n",
       "      <th>sales</th>\n",
       "      <th>discount</th>\n",
       "      <th>discount_value</th>\n",
       "      <th>product_category</th>\n",
       "      <th>product_sub_category</th>\n",
       "    </tr>\n",
       "  </thead>\n",
       "  <tbody>\n",
       "    <tr>\n",
       "      <th>186</th>\n",
       "      <td>29795</td>\n",
       "      <td>Order Cancelled</td>\n",
       "      <td>Grant Carroll</td>\n",
       "      <td>2011-11-25</td>\n",
       "      <td>49</td>\n",
       "      <td>38650400</td>\n",
       "      <td>0.05</td>\n",
       "      <td>1932520</td>\n",
       "      <td>Office Supplies</td>\n",
       "      <td>Binders &amp; Binder Accessories</td>\n",
       "    </tr>\n",
       "    <tr>\n",
       "      <th>201</th>\n",
       "      <td>31781</td>\n",
       "      <td>Order Cancelled</td>\n",
       "      <td>Sylvia Foulston</td>\n",
       "      <td>2009-01-16</td>\n",
       "      <td>46</td>\n",
       "      <td>498040</td>\n",
       "      <td>0.10</td>\n",
       "      <td>49804</td>\n",
       "      <td>Office Supplies</td>\n",
       "      <td>Binders &amp; Binder Accessories</td>\n",
       "    </tr>\n",
       "    <tr>\n",
       "      <th>5453</th>\n",
       "      <td>40519</td>\n",
       "      <td>Order Finished</td>\n",
       "      <td>Sandra Glassco</td>\n",
       "      <td>2010-12-21</td>\n",
       "      <td>38</td>\n",
       "      <td>165860</td>\n",
       "      <td>0.08</td>\n",
       "      <td>13269</td>\n",
       "      <td>Office Supplies</td>\n",
       "      <td>Rubber Bands</td>\n",
       "    </tr>\n",
       "  </tbody>\n",
       "</table>\n",
       "</div>"
      ],
      "text/plain": [
       "      order_id     order_status         customer  order_date  order_quantity  \\\n",
       "186      29795  Order Cancelled    Grant Carroll  2011-11-25              49   \n",
       "201      31781  Order Cancelled  Sylvia Foulston  2009-01-16              46   \n",
       "5453     40519   Order Finished   Sandra Glassco  2010-12-21              38   \n",
       "\n",
       "         sales  discount  discount_value product_category  \\\n",
       "186   38650400      0.05         1932520  Office Supplies   \n",
       "201     498040      0.10           49804  Office Supplies   \n",
       "5453    165860      0.08           13269  Office Supplies   \n",
       "\n",
       "              product_sub_category  \n",
       "186   Binders & Binder Accessories  \n",
       "201   Binders & Binder Accessories  \n",
       "5453                  Rubber Bands  "
      ]
     },
     "execution_count": 11,
     "metadata": {},
     "output_type": "execute_result"
    }
   ],
   "source": [
    "# This cell is used to know if there is any duplicate data row only based column \"order_id\"\n",
    "df[df['order_id'].duplicated()]"
   ]
  },
  {
   "cell_type": "markdown",
   "metadata": {},
   "source": [
    "From exploration in column order_id we can see that there are 3 order_id that duplicated. From its definition, it should not be duplicated. There are two assumption that i predict so this event can be happened : \n",
    "- Because there are bug when do input order \n",
    "- We can edit / re active  order that has already been canceled. Because in order_id 29795 and 31781 the difference is just order_status. But it still wrong because it can create new order_id<br>\n",
    "\n",
    "With this 2 assumption, i decide to not delete its duplicated because its just so little row that duplicated based on order_id"
   ]
  },
  {
   "cell_type": "markdown",
   "metadata": {},
   "source": [
    "## 2.3 Overview Column Categorial"
   ]
  },
  {
   "cell_type": "markdown",
   "metadata": {},
   "source": [
    "### 2.3.1 Overview column order_id"
   ]
  },
  {
   "cell_type": "code",
   "execution_count": 13,
   "metadata": {},
   "outputs": [
    {
     "name": "stdout",
     "output_type": "stream",
     "text": [
      "Total data in my dataset is = 5499\n",
      "Total unique data in my dataset is = 5496\n"
     ]
    }
   ],
   "source": [
    "print(f\"Total data in my dataset is = {len(df)}\")\n",
    "print(f\"Total unique data in my dataset is = {df['order_id'].nunique()}\")"
   ]
  },
  {
   "cell_type": "markdown",
   "metadata": {},
   "source": [
    "From code above we can know that order_id is almost unique. 3 order_id is duplicated"
   ]
  },
  {
   "cell_type": "markdown",
   "metadata": {},
   "source": [
    "### 2.3.2 Overview Column order_status"
   ]
  },
  {
   "cell_type": "code",
   "execution_count": 6,
   "metadata": {},
   "outputs": [
    {
     "data": {
      "text/plain": [
       "array(['Order Finished', 'Order Returned', 'Order Cancelled'],\n",
       "      dtype=object)"
      ]
     },
     "execution_count": 6,
     "metadata": {},
     "output_type": "execute_result"
    }
   ],
   "source": [
    "# This cell is used to know value unique in column \"order_status\"\n",
    "df['order_status'].unique()"
   ]
  },
  {
   "cell_type": "markdown",
   "metadata": {},
   "source": [
    "In column order_status there are only 3 options : \n",
    "- Order Finished \n",
    "- Order Returned \n",
    "- Order Cancelled"
   ]
  },
  {
   "cell_type": "markdown",
   "metadata": {},
   "source": [
    "### 2.3.3 Overview Column customer"
   ]
  },
  {
   "cell_type": "code",
   "execution_count": 7,
   "metadata": {},
   "outputs": [
    {
     "data": {
      "text/plain": [
       "777"
      ]
     },
     "execution_count": 7,
     "metadata": {},
     "output_type": "execute_result"
    }
   ],
   "source": [
    "# This cell is used to know number unique value in column 'customer'\n",
    "df['customer'].nunique()"
   ]
  },
  {
   "cell_type": "markdown",
   "metadata": {},
   "source": [
    "In column customer we can see that we have 777 unique name customer. "
   ]
  },
  {
   "cell_type": "markdown",
   "metadata": {},
   "source": [
    "### 2.3.4 Overview column order_date"
   ]
  },
  {
   "cell_type": "code",
   "execution_count": 8,
   "metadata": {},
   "outputs": [
    {
     "data": {
      "text/plain": [
       "count                             5499\n",
       "mean     2010-12-28 09:05:59.410801920\n",
       "min                2009-01-01 00:00:00\n",
       "25%                2009-12-24 12:00:00\n",
       "50%                2010-12-21 00:00:00\n",
       "75%                2012-01-05 00:00:00\n",
       "max                2012-12-30 00:00:00\n",
       "Name: order_date, dtype: object"
      ]
     },
     "execution_count": 8,
     "metadata": {},
     "output_type": "execute_result"
    }
   ],
   "source": [
    "# This cell is used to know description statistik in column order_date\n",
    "pd.to_datetime(df['order_date']).describe()"
   ]
  },
  {
   "cell_type": "markdown",
   "metadata": {},
   "source": [
    "In column \"order_date\" we can see that the range in our date between \"2009-01-01\" until \"2012-12-30\""
   ]
  },
  {
   "cell_type": "markdown",
   "metadata": {},
   "source": [
    "### 2.3.5 Overview column product_category"
   ]
  },
  {
   "cell_type": "code",
   "execution_count": 14,
   "metadata": {},
   "outputs": [
    {
     "data": {
      "text/plain": [
       "array(['Office Supplies', 'Technology', 'Furniture'], dtype=object)"
      ]
     },
     "execution_count": 14,
     "metadata": {},
     "output_type": "execute_result"
    }
   ],
   "source": [
    "# check column product_category unique value\n",
    "df['product_category'].unique()"
   ]
  },
  {
   "cell_type": "markdown",
   "metadata": {},
   "source": [
    "From code above we can know there are 3 type product_category, there are:\n",
    "- Office Supplies \n",
    "- Technology \n",
    "- Furniture"
   ]
  },
  {
   "cell_type": "markdown",
   "metadata": {},
   "source": [
    "### 2.3.6 Overview column product_sub_category"
   ]
  },
  {
   "cell_type": "code",
   "execution_count": 18,
   "metadata": {},
   "outputs": [
    {
     "data": {
      "text/html": [
       "<div>\n",
       "<style scoped>\n",
       "    .dataframe tbody tr th:only-of-type {\n",
       "        vertical-align: middle;\n",
       "    }\n",
       "\n",
       "    .dataframe tbody tr th {\n",
       "        vertical-align: top;\n",
       "    }\n",
       "\n",
       "    .dataframe thead th {\n",
       "        text-align: right;\n",
       "    }\n",
       "</style>\n",
       "<table border=\"1\" class=\"dataframe\">\n",
       "  <thead>\n",
       "    <tr style=\"text-align: right;\">\n",
       "      <th></th>\n",
       "      <th>product_category</th>\n",
       "      <th>product_sub_category</th>\n",
       "    </tr>\n",
       "  </thead>\n",
       "  <tbody>\n",
       "    <tr>\n",
       "      <th>2749</th>\n",
       "      <td>Furniture</td>\n",
       "      <td>Bookcases</td>\n",
       "    </tr>\n",
       "    <tr>\n",
       "      <th>2423</th>\n",
       "      <td>Furniture</td>\n",
       "      <td>Tables</td>\n",
       "    </tr>\n",
       "    <tr>\n",
       "      <th>2422</th>\n",
       "      <td>Furniture</td>\n",
       "      <td>Office Furnishings</td>\n",
       "    </tr>\n",
       "    <tr>\n",
       "      <th>2412</th>\n",
       "      <td>Furniture</td>\n",
       "      <td>Chairs &amp; Chairmats</td>\n",
       "    </tr>\n",
       "    <tr>\n",
       "      <th>3775</th>\n",
       "      <td>Office Supplies</td>\n",
       "      <td>Appliances</td>\n",
       "    </tr>\n",
       "    <tr>\n",
       "      <th>3776</th>\n",
       "      <td>Office Supplies</td>\n",
       "      <td>Binders &amp; Binder Accessories</td>\n",
       "    </tr>\n",
       "    <tr>\n",
       "      <th>3779</th>\n",
       "      <td>Office Supplies</td>\n",
       "      <td>Storage &amp; Organization</td>\n",
       "    </tr>\n",
       "    <tr>\n",
       "      <th>3784</th>\n",
       "      <td>Office Supplies</td>\n",
       "      <td>Labels</td>\n",
       "    </tr>\n",
       "    <tr>\n",
       "      <th>3786</th>\n",
       "      <td>Office Supplies</td>\n",
       "      <td>Pens &amp; Art Supplies</td>\n",
       "    </tr>\n",
       "    <tr>\n",
       "      <th>3800</th>\n",
       "      <td>Office Supplies</td>\n",
       "      <td>Rubber Bands</td>\n",
       "    </tr>\n",
       "    <tr>\n",
       "      <th>367</th>\n",
       "      <td>Office Supplies</td>\n",
       "      <td>Envelopes</td>\n",
       "    </tr>\n",
       "    <tr>\n",
       "      <th>3791</th>\n",
       "      <td>Office Supplies</td>\n",
       "      <td>Paper</td>\n",
       "    </tr>\n",
       "    <tr>\n",
       "      <th>3750</th>\n",
       "      <td>Office Supplies</td>\n",
       "      <td>Scissors, Rulers &amp; Trimmers</td>\n",
       "    </tr>\n",
       "    <tr>\n",
       "      <th>2167</th>\n",
       "      <td>Technology</td>\n",
       "      <td>Telephones &amp; Communication</td>\n",
       "    </tr>\n",
       "    <tr>\n",
       "      <th>3699</th>\n",
       "      <td>Technology</td>\n",
       "      <td>Computer Peripherals</td>\n",
       "    </tr>\n",
       "    <tr>\n",
       "      <th>5017</th>\n",
       "      <td>Technology</td>\n",
       "      <td>Office Machines</td>\n",
       "    </tr>\n",
       "    <tr>\n",
       "      <th>3072</th>\n",
       "      <td>Technology</td>\n",
       "      <td>Copiers &amp; Fax</td>\n",
       "    </tr>\n",
       "  </tbody>\n",
       "</table>\n",
       "</div>"
      ],
      "text/plain": [
       "     product_category          product_sub_category\n",
       "2749        Furniture                     Bookcases\n",
       "2423        Furniture                        Tables\n",
       "2422        Furniture            Office Furnishings\n",
       "2412        Furniture            Chairs & Chairmats\n",
       "3775  Office Supplies                    Appliances\n",
       "3776  Office Supplies  Binders & Binder Accessories\n",
       "3779  Office Supplies        Storage & Organization\n",
       "3784  Office Supplies                        Labels\n",
       "3786  Office Supplies           Pens & Art Supplies\n",
       "3800  Office Supplies                  Rubber Bands\n",
       "367   Office Supplies                     Envelopes\n",
       "3791  Office Supplies                         Paper\n",
       "3750  Office Supplies   Scissors, Rulers & Trimmers\n",
       "2167       Technology    Telephones & Communication\n",
       "3699       Technology          Computer Peripherals\n",
       "5017       Technology               Office Machines\n",
       "3072       Technology                 Copiers & Fax"
      ]
     },
     "execution_count": 18,
     "metadata": {},
     "output_type": "execute_result"
    }
   ],
   "source": [
    "# This cell is used to know unique value in column \"product_sub_category\"\n",
    "df[['product_category','product_sub_category']].sort_values('product_category').drop_duplicates()"
   ]
  },
  {
   "cell_type": "markdown",
   "metadata": {},
   "source": [
    "From column \"product_sub_category\" we can see that: \n",
    "- product_category \"Furniture\" has 4 product_sub_category \n",
    "- product_category \"Office Supplies\" has 9 product_sub_category \n",
    "- product_category \"Technology\" has 4 product_sub_category "
   ]
  },
  {
   "cell_type": "markdown",
   "metadata": {},
   "source": [
    "## 2.4 Overview Column Numeric"
   ]
  },
  {
   "cell_type": "code",
   "execution_count": 17,
   "metadata": {},
   "outputs": [
    {
     "data": {
      "text/html": [
       "<div>\n",
       "<style scoped>\n",
       "    .dataframe tbody tr th:only-of-type {\n",
       "        vertical-align: middle;\n",
       "    }\n",
       "\n",
       "    .dataframe tbody tr th {\n",
       "        vertical-align: top;\n",
       "    }\n",
       "\n",
       "    .dataframe thead th {\n",
       "        text-align: right;\n",
       "    }\n",
       "</style>\n",
       "<table border=\"1\" class=\"dataframe\">\n",
       "  <thead>\n",
       "    <tr style=\"text-align: right;\">\n",
       "      <th></th>\n",
       "      <th>discount</th>\n",
       "      <th>order_quantity</th>\n",
       "      <th>sales</th>\n",
       "    </tr>\n",
       "  </thead>\n",
       "  <tbody>\n",
       "    <tr>\n",
       "      <th>count</th>\n",
       "      <td>5499.000000</td>\n",
       "      <td>5499.000000</td>\n",
       "      <td>5.499000e+03</td>\n",
       "    </tr>\n",
       "    <tr>\n",
       "      <th>mean</th>\n",
       "      <td>0.049915</td>\n",
       "      <td>25.521549</td>\n",
       "      <td>3.532838e+06</td>\n",
       "    </tr>\n",
       "    <tr>\n",
       "      <th>std</th>\n",
       "      <td>0.031783</td>\n",
       "      <td>14.485352</td>\n",
       "      <td>7.305121e+06</td>\n",
       "    </tr>\n",
       "    <tr>\n",
       "      <th>min</th>\n",
       "      <td>0.000000</td>\n",
       "      <td>1.000000</td>\n",
       "      <td>6.460000e+03</td>\n",
       "    </tr>\n",
       "    <tr>\n",
       "      <th>25%</th>\n",
       "      <td>0.020000</td>\n",
       "      <td>13.000000</td>\n",
       "      <td>2.826700e+05</td>\n",
       "    </tr>\n",
       "    <tr>\n",
       "      <th>50%</th>\n",
       "      <td>0.050000</td>\n",
       "      <td>26.000000</td>\n",
       "      <td>8.546400e+05</td>\n",
       "    </tr>\n",
       "    <tr>\n",
       "      <th>75%</th>\n",
       "      <td>0.080000</td>\n",
       "      <td>38.000000</td>\n",
       "      <td>3.298741e+06</td>\n",
       "    </tr>\n",
       "    <tr>\n",
       "      <th>max</th>\n",
       "      <td>0.170000</td>\n",
       "      <td>50.000000</td>\n",
       "      <td>1.781221e+08</td>\n",
       "    </tr>\n",
       "  </tbody>\n",
       "</table>\n",
       "</div>"
      ],
      "text/plain": [
       "          discount  order_quantity         sales\n",
       "count  5499.000000     5499.000000  5.499000e+03\n",
       "mean      0.049915       25.521549  3.532838e+06\n",
       "std       0.031783       14.485352  7.305121e+06\n",
       "min       0.000000        1.000000  6.460000e+03\n",
       "25%       0.020000       13.000000  2.826700e+05\n",
       "50%       0.050000       26.000000  8.546400e+05\n",
       "75%       0.080000       38.000000  3.298741e+06\n",
       "max       0.170000       50.000000  1.781221e+08"
      ]
     },
     "execution_count": 17,
     "metadata": {},
     "output_type": "execute_result"
    }
   ],
   "source": [
    "# See summarize statistic in column numeric\n",
    "df[['discount','order_quantity','sales']].describe()"
   ]
  },
  {
   "cell_type": "markdown",
   "metadata": {},
   "source": [
    "# 3. Data Cleaning"
   ]
  },
  {
   "cell_type": "code",
   "execution_count": 18,
   "metadata": {},
   "outputs": [],
   "source": [
    "# This code is used as savepoint df before doing data cleaning. If there something wrong when do data cleaning \n",
    "# i can use thiss cell to back after data exploration\n",
    "df_clean = pd.DataFrame(df)"
   ]
  },
  {
   "cell_type": "markdown",
   "metadata": {},
   "source": [
    "<h3>3.1 Make sure all column has a right data type </h3>\n",
    "<p>\n",
    "Based on data exploration we can see that there is column that has no right data type based on it's functionality, which is \"order_date\". Right now we want to make sure all column has a right data type\n",
    "</p>"
   ]
  },
  {
   "cell_type": "code",
   "execution_count": 19,
   "metadata": {},
   "outputs": [],
   "source": [
    "#This cell is used to convert column 'order_date' data type from Object to Date\n",
    "df_clean['order_date'] = pd.to_datetime(df_clean['order_date'])"
   ]
  },
  {
   "cell_type": "code",
   "execution_count": 20,
   "metadata": {},
   "outputs": [
    {
     "name": "stdout",
     "output_type": "stream",
     "text": [
      "<class 'pandas.core.frame.DataFrame'>\n",
      "RangeIndex: 5499 entries, 0 to 5498\n",
      "Data columns (total 10 columns):\n",
      " #   Column                Non-Null Count  Dtype         \n",
      "---  ------                --------------  -----         \n",
      " 0   order_id              5499 non-null   int64         \n",
      " 1   order_status          5499 non-null   object        \n",
      " 2   customer              5499 non-null   object        \n",
      " 3   order_date            5499 non-null   datetime64[ns]\n",
      " 4   order_quantity        5499 non-null   int64         \n",
      " 5   sales                 5499 non-null   int64         \n",
      " 6   discount              5499 non-null   float64       \n",
      " 7   discount_value        5499 non-null   int64         \n",
      " 8   product_category      5499 non-null   object        \n",
      " 9   product_sub_category  5499 non-null   object        \n",
      "dtypes: datetime64[ns](1), float64(1), int64(4), object(4)\n",
      "memory usage: 429.7+ KB\n"
     ]
    }
   ],
   "source": [
    "df_clean.info()"
   ]
  },
  {
   "cell_type": "markdown",
   "metadata": {},
   "source": [
    "From process above right now we have column order_date from Object to datetime. And right now all column in our data has right data type based on their funcionallity"
   ]
  },
  {
   "cell_type": "markdown",
   "metadata": {},
   "source": [
    "<h3>3.2 Remove column that unnecessary </h3>\n",
    "<p>\n",
    "From Data Exploration we can see that discount_value can get from sales*discount_value. From my point of view, This column can be removed because this column can be replace with other column. And also it has same pattern distribution data with column \"sales\". And also remove column \"order_id\" because it is unique.\n",
    "</p>"
   ]
  },
  {
   "cell_type": "code",
   "execution_count": 21,
   "metadata": {},
   "outputs": [],
   "source": [
    "# drop column discount_value from df_clean\n",
    "df_clean = df_clean.drop(['discount_value','order_id'],axis=1)"
   ]
  },
  {
   "cell_type": "code",
   "execution_count": 22,
   "metadata": {},
   "outputs": [
    {
     "name": "stdout",
     "output_type": "stream",
     "text": [
      "<class 'pandas.core.frame.DataFrame'>\n",
      "RangeIndex: 5499 entries, 0 to 5498\n",
      "Data columns (total 8 columns):\n",
      " #   Column                Non-Null Count  Dtype         \n",
      "---  ------                --------------  -----         \n",
      " 0   order_status          5499 non-null   object        \n",
      " 1   customer              5499 non-null   object        \n",
      " 2   order_date            5499 non-null   datetime64[ns]\n",
      " 3   order_quantity        5499 non-null   int64         \n",
      " 4   sales                 5499 non-null   int64         \n",
      " 5   discount              5499 non-null   float64       \n",
      " 6   product_category      5499 non-null   object        \n",
      " 7   product_sub_category  5499 non-null   object        \n",
      "dtypes: datetime64[ns](1), float64(1), int64(2), object(4)\n",
      "memory usage: 343.8+ KB\n"
     ]
    }
   ],
   "source": [
    "df_clean.info()"
   ]
  },
  {
   "cell_type": "markdown",
   "metadata": {},
   "source": [
    "From information above we can see that column \"discount_value\" and \"order_id\" has been deleted from df_clean"
   ]
  },
  {
   "cell_type": "markdown",
   "metadata": {},
   "source": [
    "<h3>3.3 Check and Handling Data Outlier</h3>"
   ]
  },
  {
   "cell_type": "code",
   "execution_count": 26,
   "metadata": {},
   "outputs": [
    {
     "data": {
      "text/plain": [
       "{'order_quantity': -0.024156568068862228,\n",
       " 'sales': 5.8228394962076395,\n",
       " 'discount': 0.02099734590065443}"
      ]
     },
     "execution_count": 26,
     "metadata": {},
     "output_type": "execute_result"
    }
   ],
   "source": [
    "# Check Skew Outlier for column numeric\n",
    "df_numeric =  df_clean.select_dtypes(exclude=[object,'datetime64'])\n",
    "df_numeric_column = df_numeric.columns.values\n",
    "dict_column_skew_before = {}\n",
    "for column_name in df_numeric:\n",
    "    dict_column_skew_before[column_name] = df_numeric[column_name].skew()\n",
    "dict_column_skew_before"
   ]
  },
  {
   "cell_type": "code",
   "execution_count": 27,
   "metadata": {},
   "outputs": [],
   "source": [
    "def handling_outlier_per_column(column_name,dataframe):\n",
    "    '''\n",
    "    This function is used to handling outlier in dataframe in specific column_name \n",
    "\n",
    "    Parameter  Description \n",
    "    ==========================\n",
    "    column_name = name column in dataframe \n",
    "    dataframe = dataframe in pandas\n",
    "\n",
    "    Example Usage \n",
    "    ==========================\n",
    "    handling_outlier_per_column(column_name,dataframe)\n",
    "    \n",
    "    Output : Dataframe with after capping outlier\n",
    "\n",
    "    '''\n",
    "    skew = dataframe[column_name].skew()\n",
    "    # Handling outlier if distrubiton data normal\n",
    "    if skew <= 0.5 and skew >= -0.5 :\n",
    "        \n",
    "        mean = dataframe[column_name].mean()\n",
    "        std = dataframe[column_name].std()\n",
    "\n",
    "        lower_bound = mean - 3*std \n",
    "        upper_bound = mean + 3*std\n",
    "        outlier = dataframe[(dataframe[column_name] < lower_bound) | (dataframe[column_name] > upper_bound)]\n",
    "        if len(outlier) > 0:\n",
    "            dataframe[column_name] = dataframe[column_name].clip(lower=lower_bound,upper=upper_bound)\n",
    "    # Handling outlier if distribution data skew\n",
    "    elif (skew > 0.5 and skew <=1) or (skew < -0.5 and skew >= -1) :\n",
    "        q1 = dataframe[column_name].quantile(0.25)\n",
    "        q3 = dataframe[column_name].quantile(0.75)\n",
    "        iqr = q3 - q1\n",
    "        \n",
    "        lower_bound = q1 - 1.5*iqr\n",
    "        upper_bound = q3 + 1.5*iqr\n",
    "        outlier = dataframe[(dataframe[column_name] < lower_bound) | (dataframe[column_name] > upper_bound)]\n",
    "        if len(outlier) > 0:\n",
    "            dataframe[column_name] = dataframe[column_name].clip(lower=lower_bound,upper=upper_bound)\n",
    "    # Handling outlier if distribution data ekstreme skew \n",
    "    else: \n",
    "        q1 = dataframe[column_name].quantile(0.25)\n",
    "        q3 = dataframe[column_name].quantile(0.75)\n",
    "        iqr = q3 - q1\n",
    "        \n",
    "        lower_bound = q1 - 3*iqr\n",
    "        upper_bound = q3 + 3*iqr\n",
    "        outlier = dataframe[(dataframe[column_name] < lower_bound) | (dataframe[column_name] > upper_bound)]\n",
    "        if len(outlier) > 0:\n",
    "            dataframe[column_name] = dataframe[column_name].clip(lower=lower_bound,upper=upper_bound)\n",
    "    return dataframe\n"
   ]
  },
  {
   "cell_type": "code",
   "execution_count": 28,
   "metadata": {},
   "outputs": [],
   "source": [
    "def handling_outlier_dataframe(dataframe):\n",
    "    '''\n",
    "    This function is used to handling outlier dataframe for every column \n",
    "    \n",
    "    Parameter Description \n",
    "    ====================== \n",
    "    dataframe = dataframe in pandas \n",
    "\n",
    "    Example usage \n",
    "    ==================\n",
    "    handling_outlier_dataframe(X_train) \n",
    "    \n",
    "    Output : dataframe after handling outlier\n",
    "    '''\n",
    "    list_column = dataframe.columns.to_list()\n",
    "    list_column_numeric = []\n",
    "    for column in list_column:\n",
    "        if dataframe[column].dtype == 'float64' or dataframe[column].dtype == 'int64':\n",
    "            list_column_numeric.append(column)\n",
    "\n",
    "    for column_name in list_column_numeric:\n",
    "        dataframe = handling_outlier_per_column(column_name,dataframe)\n",
    "\n",
    "    return dataframe"
   ]
  },
  {
   "cell_type": "code",
   "execution_count": 29,
   "metadata": {},
   "outputs": [],
   "source": [
    "# Called function to handling to handling outlier in X_train\n",
    "df_clean = handling_outlier_dataframe(df_clean)"
   ]
  },
  {
   "cell_type": "code",
   "execution_count": 30,
   "metadata": {},
   "outputs": [
    {
     "data": {
      "text/plain": [
       "{'order_quantity': -0.024156568068862228,\n",
       " 'sales': 1.6647753247210695,\n",
       " 'discount': 0.014156910197004442}"
      ]
     },
     "execution_count": 30,
     "metadata": {},
     "output_type": "execute_result"
    }
   ],
   "source": [
    "# Check Skew Outlier for column numeric\n",
    "df_numeric =  df_clean.select_dtypes(exclude=[object,'datetime64'])\n",
    "df_numeric_column = df_numeric.columns.values\n",
    "dict_column_skew_before = {}\n",
    "for column_name in df_numeric:\n",
    "    dict_column_skew_before[column_name] = df_numeric[column_name].skew()\n",
    "dict_column_skew_before"
   ]
  },
  {
   "cell_type": "markdown",
   "metadata": {},
   "source": [
    "From Here we know that only column sales that has outlier based on it's skewness, so i handle that by capping it and it's skew is reduced significant even it still has outlier"
   ]
  },
  {
   "cell_type": "markdown",
   "metadata": {},
   "source": [
    "## 3.4 Export data after data cleaning to file csv"
   ]
  },
  {
   "cell_type": "code",
   "execution_count": 31,
   "metadata": {},
   "outputs": [],
   "source": [
    "# export df_clean to file csv\n",
    "df_clean.to_csv(\"sales_performance_clean\",index=False)"
   ]
  },
  {
   "cell_type": "markdown",
   "metadata": {},
   "source": [
    "<h1>4. Analysis and Calculation</h1>"
   ]
  },
  {
   "cell_type": "markdown",
   "metadata": {},
   "source": [
    "<h3>4.1 Visualisation Data </h3>"
   ]
  },
  {
   "cell_type": "code",
   "execution_count": 29,
   "metadata": {},
   "outputs": [],
   "source": [
    "# This code is used as savepoint df before doing data visualization. If there something wrong when do data cleaning \n",
    "# i can use thiss cell to back after data cleaning\n",
    "df_visualization = pd.DataFrame(df_clean)"
   ]
  },
  {
   "cell_type": "code",
   "execution_count": 30,
   "metadata": {},
   "outputs": [],
   "source": [
    "# make column year based on order_date\n",
    "df_visualization['year'] = df_visualization['order_date'].dt.year"
   ]
  },
  {
   "cell_type": "markdown",
   "metadata": {},
   "source": [
    "<h5>4.1.1 How performance sales and order qty for each year ?</h5>"
   ]
  },
  {
   "cell_type": "code",
   "execution_count": 31,
   "metadata": {},
   "outputs": [
    {
     "data": {
      "text/html": [
       "<div>\n",
       "<style scoped>\n",
       "    .dataframe tbody tr th:only-of-type {\n",
       "        vertical-align: middle;\n",
       "    }\n",
       "\n",
       "    .dataframe tbody tr th {\n",
       "        vertical-align: top;\n",
       "    }\n",
       "\n",
       "    .dataframe thead th {\n",
       "        text-align: right;\n",
       "    }\n",
       "</style>\n",
       "<table border=\"1\" class=\"dataframe\">\n",
       "  <thead>\n",
       "    <tr style=\"text-align: right;\">\n",
       "      <th></th>\n",
       "      <th>sales</th>\n",
       "      <th>order_quantity</th>\n",
       "    </tr>\n",
       "    <tr>\n",
       "      <th>year</th>\n",
       "      <th></th>\n",
       "      <th></th>\n",
       "    </tr>\n",
       "  </thead>\n",
       "  <tbody>\n",
       "    <tr>\n",
       "      <th>2009</th>\n",
       "      <td>2548924572</td>\n",
       "      <td>31785</td>\n",
       "    </tr>\n",
       "    <tr>\n",
       "      <th>2010</th>\n",
       "      <td>2362173423</td>\n",
       "      <td>31668</td>\n",
       "    </tr>\n",
       "    <tr>\n",
       "      <th>2011</th>\n",
       "      <td>2212752131</td>\n",
       "      <td>30240</td>\n",
       "    </tr>\n",
       "    <tr>\n",
       "      <th>2012</th>\n",
       "      <td>2605470094</td>\n",
       "      <td>32642</td>\n",
       "    </tr>\n",
       "  </tbody>\n",
       "</table>\n",
       "</div>"
      ],
      "text/plain": [
       "           sales  order_quantity\n",
       "year                            \n",
       "2009  2548924572           31785\n",
       "2010  2362173423           31668\n",
       "2011  2212752131           30240\n",
       "2012  2605470094           32642"
      ]
     },
     "execution_count": 31,
     "metadata": {},
     "output_type": "execute_result"
    }
   ],
   "source": [
    "# creating new dataframe called df_visualization_sales that used to visualize data no 4.1.1\n",
    "df_visualization_sales =  df_visualization.groupby('year')[['sales','order_quantity']].sum()\n",
    "df_visualization_sales"
   ]
  },
  {
   "cell_type": "code",
   "execution_count": 32,
   "metadata": {},
   "outputs": [
    {
     "data": {
      "image/png": "[encoded data removed]",
      "text/plain": [
       "<Figure size 640x480 with 1 Axes>"
      ]
     },
     "metadata": {},
     "output_type": "display_data"
    }
   ],
   "source": [
    "# This cell is used to visualize df_visualization_sales column sales in bar \n",
    "\n",
    "# get list_year as x_axis\n",
    "list_year = df_visualization_sales.index.to_list()\n",
    "\n",
    "# to convert rupiah to format Million and Billion\n",
    "yticks = [500000000,1000000000,1500000000,2000000000,2500000000]\n",
    "yticks_label = ['5M','1B','1.5B','2B','2.5B']\n",
    "\n",
    "# create plot bar based on df_visualization_sales sales\n",
    "plt.bar(list_year,df_visualization_sales['sales'], label=\"sales\")\n",
    "\n",
    "# plt additional settings\n",
    "plt.xticks(list_year)\n",
    "plt.xlabel('year')\n",
    "plt.ylabel('Rupiah')\n",
    "plt.title(\"Total Sales For Each year\")\n",
    "plt.yticks(yticks,yticks_label)\n",
    "\n",
    "plt.show()"
   ]
  },
  {
   "cell_type": "code",
   "execution_count": 33,
   "metadata": {},
   "outputs": [
    {
     "data": {
      "image/png": "[encoded data removed]",
      "text/plain": [
       "<Figure size 640x480 with 1 Axes>"
      ]
     },
     "metadata": {},
     "output_type": "display_data"
    }
   ],
   "source": [
    "# This cell is used to visualize df_visualization_sales column order_quantity in bar \n",
    "\n",
    "# get list_year as x_axis\n",
    "list_year = df_visualization_sales.index.to_list()\n",
    "\n",
    "# create plot bar based on  df_visualization_sales order_quantity\n",
    "plt.bar(list_year,df_visualization_sales['order_quantity'], label=\"sales\")\n",
    "\n",
    "# additional seting plot\n",
    "plt.xticks(list_year)\n",
    "plt.xlabel('year')\n",
    "plt.ylabel('total order')\n",
    "plt.title(\"Total Order Quantity For Each year\")\n",
    "plt.show()"
   ]
  },
  {
   "cell_type": "code",
   "execution_count": 34,
   "metadata": {},
   "outputs": [
    {
     "data": {
      "text/html": [
       "<div>\n",
       "<style scoped>\n",
       "    .dataframe tbody tr th:only-of-type {\n",
       "        vertical-align: middle;\n",
       "    }\n",
       "\n",
       "    .dataframe tbody tr th {\n",
       "        vertical-align: top;\n",
       "    }\n",
       "\n",
       "    .dataframe thead th {\n",
       "        text-align: right;\n",
       "    }\n",
       "</style>\n",
       "<table border=\"1\" class=\"dataframe\">\n",
       "  <thead>\n",
       "    <tr style=\"text-align: right;\">\n",
       "      <th></th>\n",
       "      <th>sales</th>\n",
       "      <th>order_quantity</th>\n",
       "    </tr>\n",
       "  </thead>\n",
       "  <tbody>\n",
       "    <tr>\n",
       "      <th>count</th>\n",
       "      <td>4.000000e+00</td>\n",
       "      <td>4.000000</td>\n",
       "    </tr>\n",
       "    <tr>\n",
       "      <th>mean</th>\n",
       "      <td>2.432330e+09</td>\n",
       "      <td>31583.750000</td>\n",
       "    </tr>\n",
       "    <tr>\n",
       "      <th>std</th>\n",
       "      <td>1.795440e+08</td>\n",
       "      <td>995.516072</td>\n",
       "    </tr>\n",
       "    <tr>\n",
       "      <th>min</th>\n",
       "      <td>2.212752e+09</td>\n",
       "      <td>30240.000000</td>\n",
       "    </tr>\n",
       "    <tr>\n",
       "      <th>25%</th>\n",
       "      <td>2.324818e+09</td>\n",
       "      <td>31311.000000</td>\n",
       "    </tr>\n",
       "    <tr>\n",
       "      <th>50%</th>\n",
       "      <td>2.455549e+09</td>\n",
       "      <td>31726.500000</td>\n",
       "    </tr>\n",
       "    <tr>\n",
       "      <th>75%</th>\n",
       "      <td>2.563061e+09</td>\n",
       "      <td>31999.250000</td>\n",
       "    </tr>\n",
       "    <tr>\n",
       "      <th>max</th>\n",
       "      <td>2.605470e+09</td>\n",
       "      <td>32642.000000</td>\n",
       "    </tr>\n",
       "  </tbody>\n",
       "</table>\n",
       "</div>"
      ],
      "text/plain": [
       "              sales  order_quantity\n",
       "count  4.000000e+00        4.000000\n",
       "mean   2.432330e+09    31583.750000\n",
       "std    1.795440e+08      995.516072\n",
       "min    2.212752e+09    30240.000000\n",
       "25%    2.324818e+09    31311.000000\n",
       "50%    2.455549e+09    31726.500000\n",
       "75%    2.563061e+09    31999.250000\n",
       "max    2.605470e+09    32642.000000"
      ]
     },
     "execution_count": 34,
     "metadata": {},
     "output_type": "execute_result"
    }
   ],
   "source": [
    "df_visualization_sales.describe()"
   ]
  },
  {
   "cell_type": "markdown",
   "metadata": {},
   "source": [
    "From this visualization we can see that sales has correlation with order_quantity. It prove by from year 2009 until 2011 both sales and order_quantity has drop pattern. And in year 2012 both sales and order_quantity is increased. And then we can get summary information that : \n",
    "- year that have the lowest sales and order_quantity is 2011 \n",
    "- year that has the highest sales and order_quantity is 2012 \n",
    "- mean sales from 2009 - 2012 is 2.4 billion and order quantity is 31583"
   ]
  },
  {
   "cell_type": "markdown",
   "metadata": {},
   "source": [
    "<h5>4.1.2 Who are the top 5 customer ?</h5>"
   ]
  },
  {
   "cell_type": "code",
   "execution_count": 35,
   "metadata": {},
   "outputs": [
    {
     "data": {
      "text/html": [
       "<div>\n",
       "<style scoped>\n",
       "    .dataframe tbody tr th:only-of-type {\n",
       "        vertical-align: middle;\n",
       "    }\n",
       "\n",
       "    .dataframe tbody tr th {\n",
       "        vertical-align: top;\n",
       "    }\n",
       "\n",
       "    .dataframe thead th {\n",
       "        text-align: right;\n",
       "    }\n",
       "</style>\n",
       "<table border=\"1\" class=\"dataframe\">\n",
       "  <thead>\n",
       "    <tr style=\"text-align: right;\">\n",
       "      <th></th>\n",
       "      <th>sales</th>\n",
       "    </tr>\n",
       "    <tr>\n",
       "      <th>customer</th>\n",
       "      <th></th>\n",
       "    </tr>\n",
       "  </thead>\n",
       "  <tbody>\n",
       "    <tr>\n",
       "      <th>Sonia Sunley</th>\n",
       "      <td>55959218</td>\n",
       "    </tr>\n",
       "    <tr>\n",
       "      <th>Brad Thomas</th>\n",
       "      <td>53626929</td>\n",
       "    </tr>\n",
       "    <tr>\n",
       "      <th>Tanja Norvell</th>\n",
       "      <td>49622532</td>\n",
       "    </tr>\n",
       "    <tr>\n",
       "      <th>Sally Knutson</th>\n",
       "      <td>46442340</td>\n",
       "    </tr>\n",
       "    <tr>\n",
       "      <th>Jim Epp</th>\n",
       "      <td>46434887</td>\n",
       "    </tr>\n",
       "  </tbody>\n",
       "</table>\n",
       "</div>"
      ],
      "text/plain": [
       "                  sales\n",
       "customer               \n",
       "Sonia Sunley   55959218\n",
       "Brad Thomas    53626929\n",
       "Tanja Norvell  49622532\n",
       "Sally Knutson  46442340\n",
       "Jim Epp        46434887"
      ]
     },
     "execution_count": 35,
     "metadata": {},
     "output_type": "execute_result"
    }
   ],
   "source": [
    "# Create new dataframe to visualize data for question 4.1.2\n",
    "df_visualization_top5_customer = df_visualization.groupby('customer')[['sales']].sum().sort_values('sales',ascending=False).iloc[:5]\n",
    "df_visualization_top5_customer"
   ]
  },
  {
   "cell_type": "code",
   "execution_count": 36,
   "metadata": {},
   "outputs": [
    {
     "data": {
      "image/png": "[encoded data removed]",
      "text/plain": [
       "<Figure size 640x480 with 1 Axes>"
      ]
     },
     "metadata": {},
     "output_type": "display_data"
    }
   ],
   "source": [
    "# get list name that used for label in pie chart\n",
    "list_name = df_visualization_top5_customer.index.to_list()\n",
    "\n",
    "# show plot pie based on df_visualization_top5_customer sales\n",
    "plt.pie(df_visualization_top5_customer['sales'], labels=list_name, autopct='%1.0f%%')\n",
    "plt.title(\"Top 5 customer\")\n",
    "plt.show()"
   ]
  },
  {
   "cell_type": "markdown",
   "metadata": {},
   "source": [
    "From this chart we can see that this our top 5 customer"
   ]
  },
  {
   "cell_type": "markdown",
   "metadata": {},
   "source": [
    "<h5>4.1.3 How are product performance for each year ?</h5>"
   ]
  },
  {
   "cell_type": "code",
   "execution_count": 37,
   "metadata": {},
   "outputs": [
    {
     "data": {
      "text/html": [
       "<div>\n",
       "<style scoped>\n",
       "    .dataframe tbody tr th:only-of-type {\n",
       "        vertical-align: middle;\n",
       "    }\n",
       "\n",
       "    .dataframe tbody tr th {\n",
       "        vertical-align: top;\n",
       "    }\n",
       "\n",
       "    .dataframe thead th {\n",
       "        text-align: right;\n",
       "    }\n",
       "</style>\n",
       "<table border=\"1\" class=\"dataframe\">\n",
       "  <thead>\n",
       "    <tr style=\"text-align: right;\">\n",
       "      <th></th>\n",
       "      <th></th>\n",
       "      <th>sales</th>\n",
       "    </tr>\n",
       "    <tr>\n",
       "      <th>year</th>\n",
       "      <th>product_category</th>\n",
       "      <th></th>\n",
       "    </tr>\n",
       "  </thead>\n",
       "  <tbody>\n",
       "    <tr>\n",
       "      <th rowspan=\"3\" valign=\"top\">2009</th>\n",
       "      <th>Furniture</th>\n",
       "      <td>863327364</td>\n",
       "    </tr>\n",
       "    <tr>\n",
       "      <th>Office Supplies</th>\n",
       "      <td>797848560</td>\n",
       "    </tr>\n",
       "    <tr>\n",
       "      <th>Technology</th>\n",
       "      <td>887748648</td>\n",
       "    </tr>\n",
       "    <tr>\n",
       "      <th rowspan=\"3\" valign=\"top\">2010</th>\n",
       "      <th>Furniture</th>\n",
       "      <td>873770848</td>\n",
       "    </tr>\n",
       "    <tr>\n",
       "      <th>Office Supplies</th>\n",
       "      <td>711968920</td>\n",
       "    </tr>\n",
       "    <tr>\n",
       "      <th>Technology</th>\n",
       "      <td>776433655</td>\n",
       "    </tr>\n",
       "    <tr>\n",
       "      <th rowspan=\"3\" valign=\"top\">2011</th>\n",
       "      <th>Furniture</th>\n",
       "      <td>791842964</td>\n",
       "    </tr>\n",
       "    <tr>\n",
       "      <th>Office Supplies</th>\n",
       "      <td>735938240</td>\n",
       "    </tr>\n",
       "    <tr>\n",
       "      <th>Technology</th>\n",
       "      <td>684970927</td>\n",
       "    </tr>\n",
       "    <tr>\n",
       "      <th rowspan=\"3\" valign=\"top\">2012</th>\n",
       "      <th>Furniture</th>\n",
       "      <td>802541248</td>\n",
       "    </tr>\n",
       "    <tr>\n",
       "      <th>Office Supplies</th>\n",
       "      <td>871535680</td>\n",
       "    </tr>\n",
       "    <tr>\n",
       "      <th>Technology</th>\n",
       "      <td>931393166</td>\n",
       "    </tr>\n",
       "  </tbody>\n",
       "</table>\n",
       "</div>"
      ],
      "text/plain": [
       "                           sales\n",
       "year product_category           \n",
       "2009 Furniture         863327364\n",
       "     Office Supplies   797848560\n",
       "     Technology        887748648\n",
       "2010 Furniture         873770848\n",
       "     Office Supplies   711968920\n",
       "     Technology        776433655\n",
       "2011 Furniture         791842964\n",
       "     Office Supplies   735938240\n",
       "     Technology        684970927\n",
       "2012 Furniture         802541248\n",
       "     Office Supplies   871535680\n",
       "     Technology        931393166"
      ]
     },
     "execution_count": 37,
     "metadata": {},
     "output_type": "execute_result"
    }
   ],
   "source": [
    "# create new dataframe that used for visualize data for question 4.1.3\n",
    "df_visualization_product_category =  df_visualization.groupby(['year','product_category'])[['sales']].sum()\n",
    "df_visualization_product_category"
   ]
  },
  {
   "cell_type": "code",
   "execution_count": 38,
   "metadata": {},
   "outputs": [
    {
     "data": {
      "text/plain": [
       "array([863327364, 873770848, 791842964, 802541248, 797848560, 711968920,\n",
       "       735938240, 871535680, 887748648, 776433655, 684970927, 931393166])"
      ]
     },
     "execution_count": 38,
     "metadata": {},
     "output_type": "execute_result"
    }
   ],
   "source": [
    "# This cell us used for get list value that will used for value in seaborn lineplot\n",
    "list_furniture = []\n",
    "list_other = []\n",
    "list_tech = [] \n",
    "for year in range(2009,2013,1):\n",
    "    list_furniture.append(df_visualization_product_category.loc[[(year,'Furniture')]]['sales'].iloc[0])\n",
    "    list_other.append(df_visualization_product_category.loc[[(year,'Office Supplies')]]['sales'].iloc[0])\n",
    "    list_tech.append(df_visualization_product_category.loc[[(year,'Technology')]]['sales'].iloc[0])\n",
    "\n",
    "list_value = np.array(list_furniture + list_other + list_tech)\n",
    "list_value\n"
   ]
  },
  {
   "cell_type": "code",
   "execution_count": 39,
   "metadata": {},
   "outputs": [
    {
     "name": "stderr",
     "output_type": "stream",
     "text": [
      "/opt/anaconda3/lib/python3.11/site-packages/seaborn/_oldcore.py:1119: FutureWarning: use_inf_as_na option is deprecated and will be removed in a future version. Convert inf values to NaN before operating instead.\n",
      "  with pd.option_context('mode.use_inf_as_na', True):\n",
      "/opt/anaconda3/lib/python3.11/site-packages/seaborn/_oldcore.py:1119: FutureWarning: use_inf_as_na option is deprecated and will be removed in a future version. Convert inf values to NaN before operating instead.\n",
      "  with pd.option_context('mode.use_inf_as_na', True):\n"
     ]
    },
    {
     "data": {
      "image/png": "[encoded data removed]",
      "text/plain": [
       "<Figure size 640x480 with 1 Axes>"
      ]
     },
     "metadata": {},
     "output_type": "display_data"
    }
   ],
   "source": [
    "np.random.seed(0)\n",
    "\n",
    "# It is setting for creating sns.linplot\n",
    "data = {\n",
    "    'time': np.tile(np.arange(4), 3),\n",
    "    'value': list_value,\n",
    "    'category': np.repeat(['Furniture', 'Office Supplies', 'Technology'], 4)\n",
    "}\n",
    "df = pd.DataFrame(data)\n",
    "\n",
    "# Create the line plot\n",
    "sns.lineplot(data=df, x='time', y='value', hue='category', marker='o')\n",
    "\n",
    "# Add additional setting in lineplot\n",
    "plt.xlabel('Year')\n",
    "plt.ylabel('Sales in Rp')\n",
    "plt.xticks([0,1,2,3],['2009','2010','2011','2012'])\n",
    "plt.yticks([700000000,750000000,800000000,850000000,900000000],['7M','7.5M','8M','8.5M','9.5M'])\n",
    "plt.title('Performance product category per year')\n",
    "\n",
    "# Show the plot\n",
    "plt.show()"
   ]
  },
  {
   "cell_type": "markdown",
   "metadata": {},
   "source": [
    "From Graph above we can get insight per category : \n",
    "- Category Furniture has lower progress from 2009 until 2012 \n",
    "- Category Office Supoplies has lower progress from year between 2009 and 2010. but has significant good progress in year between 2010 and 2012\n",
    "- Category Technology has significant bad progress in year between 2009 and 2011, but has significant good progress in year between 2011 and 2012"
   ]
  },
  {
   "cell_type": "markdown",
   "metadata": {},
   "source": [
    "<h5>4.1.4 How are order status performance for each year ?</h5>"
   ]
  },
  {
   "cell_type": "code",
   "execution_count": 40,
   "metadata": {},
   "outputs": [
    {
     "data": {
      "text/plain": [
       "year\n",
       "2009    137\n",
       "2010    137\n",
       "2011    131\n",
       "2012    124\n",
       "dtype: int64"
      ]
     },
     "execution_count": 40,
     "metadata": {},
     "output_type": "execute_result"
    }
   ],
   "source": [
    "# This cell is used for create new dataframe to visualize data order status that failed for each year\n",
    "df_visualization[\"order_status_failed\"] = df_visualization[\"order_status\"].replace({\"Order Cancelled\":\"Order Cancelled and Returned\",\"Order Returned\":\"Order Cancelled and Returned\"})\n",
    "df_visualization_order_status =  df_visualization[df_visualization['order_status_failed'] != \"Order Finished\" ].groupby(['year']).size()\n",
    "df_visualization_order_status"
   ]
  },
  {
   "cell_type": "code",
   "execution_count": 41,
   "metadata": {},
   "outputs": [
    {
     "data": {
      "image/png": "[encoded data removed]",
      "text/plain": [
       "<Figure size 640x480 with 1 Axes>"
      ]
     },
     "metadata": {},
     "output_type": "display_data"
    }
   ],
   "source": [
    "# It is used for x axis in line chart\n",
    "year_x = df_visualization_order_status.index.to_list()\n",
    "\n",
    "# It is used for y axis in line chart\n",
    "qty_failed_y = df_visualization_order_status.to_list()\n",
    "\n",
    "# create line chart for performance order status\n",
    "fig, ax = plt.subplots()\n",
    "\n",
    "ax.plot(year_x,qty_failed_y,color=\"green\",marker=\"o\",markerfacecolor=\"red\")\n",
    "x_ticks = range(min(year_x),max(year_x) + 1)\n",
    "ax.set_xticks(x_ticks)\n",
    "ax.set_xlabel('year')\n",
    "ax.set_ylabel('total order returned and returned')\n",
    "ax.set_title(\"Line Chart Order Failed Each Year\")\n",
    "# plt.plot(year_x,qty_failed_y)\n",
    "plt.show()\n"
   ]
  },
  {
   "cell_type": "markdown",
   "metadata": {},
   "source": [
    "From above graph line chart we can see that from year 2009 until 2012 has decrasing progress for order status that failed."
   ]
  },
  {
   "cell_type": "markdown",
   "metadata": {},
   "source": [
    "<h3>4.2 Statistk Analysist</h3>"
   ]
  },
  {
   "cell_type": "code",
   "execution_count": 42,
   "metadata": {},
   "outputs": [],
   "source": [
    "# This code is used as savepoint df before doing data visualization. If there something wrong when do statistik analyst \n",
    "# i can use thiss cell to back after data cleaning\n",
    "df_analyst = pd.DataFrame(df_clean)"
   ]
  },
  {
   "cell_type": "markdown",
   "metadata": {},
   "source": [
    "<h5>4.2.1 Analyst Descriptive</h5>\n",
    "<p>\n",
    "In this section i want to do analyst descriptive to answer question \"How many order qty that suitable for each product category for promotion ?\". \n",
    "</p>"
   ]
  },
  {
   "cell_type": "code",
   "execution_count": 43,
   "metadata": {},
   "outputs": [
    {
     "data": {
      "text/html": [
       "<div>\n",
       "<style scoped>\n",
       "    .dataframe tbody tr th:only-of-type {\n",
       "        vertical-align: middle;\n",
       "    }\n",
       "\n",
       "    .dataframe tbody tr th {\n",
       "        vertical-align: top;\n",
       "    }\n",
       "\n",
       "    .dataframe thead tr th {\n",
       "        text-align: left;\n",
       "    }\n",
       "\n",
       "    .dataframe thead tr:last-of-type th {\n",
       "        text-align: right;\n",
       "    }\n",
       "</style>\n",
       "<table border=\"1\" class=\"dataframe\">\n",
       "  <thead>\n",
       "    <tr>\n",
       "      <th></th>\n",
       "      <th colspan=\"4\" halign=\"left\">order_quantity</th>\n",
       "    </tr>\n",
       "    <tr>\n",
       "      <th></th>\n",
       "      <th>mean</th>\n",
       "      <th>min</th>\n",
       "      <th>max</th>\n",
       "      <th>mode</th>\n",
       "    </tr>\n",
       "    <tr>\n",
       "      <th>product_category</th>\n",
       "      <th></th>\n",
       "      <th></th>\n",
       "      <th></th>\n",
       "      <th></th>\n",
       "    </tr>\n",
       "  </thead>\n",
       "  <tbody>\n",
       "    <tr>\n",
       "      <th>Furniture</th>\n",
       "      <td>23.774226</td>\n",
       "      <td>1</td>\n",
       "      <td>50</td>\n",
       "      <td>4</td>\n",
       "    </tr>\n",
       "    <tr>\n",
       "      <th>Office Supplies</th>\n",
       "      <td>25.226199</td>\n",
       "      <td>1</td>\n",
       "      <td>50</td>\n",
       "      <td>23</td>\n",
       "    </tr>\n",
       "    <tr>\n",
       "      <th>Technology</th>\n",
       "      <td>24.508370</td>\n",
       "      <td>1</td>\n",
       "      <td>50</td>\n",
       "      <td>31</td>\n",
       "    </tr>\n",
       "  </tbody>\n",
       "</table>\n",
       "</div>"
      ],
      "text/plain": [
       "                 order_quantity             \n",
       "                           mean min max mode\n",
       "product_category                            \n",
       "Furniture             23.774226   1  50    4\n",
       "Office Supplies       25.226199   1  50   23\n",
       "Technology            24.508370   1  50   31"
      ]
     },
     "execution_count": 43,
     "metadata": {},
     "output_type": "execute_result"
    }
   ],
   "source": [
    "# This cell is used to get mean,min,max,mode order_quantity per product_category\n",
    "def mode(series):\n",
    "    return series.mode().iloc[0]\n",
    "\n",
    "df_analyst.groupby('product_category').agg({'order_quantity':['mean','min','max',mode]})"
   ]
  },
  {
   "cell_type": "markdown",
   "metadata": {},
   "source": [
    "From information above we can see mean,min,max, and mode for every product category. "
   ]
  },
  {
   "cell_type": "markdown",
   "metadata": {},
   "source": [
    "<h5>4.2.2 Analyst Inferensial</h5>\n",
    "<p>\n",
    "In this section i want to do analyst inferensial to answer question \"How impact discount with sales and order status ?\"\n",
    "</p>"
   ]
  },
  {
   "cell_type": "code",
   "execution_count": 44,
   "metadata": {},
   "outputs": [
    {
     "name": "stdout",
     "output_type": "stream",
     "text": [
      "P-value: 0.8883462568268771\n",
      "correlation_coefficient: -0.001966818491081043\n"
     ]
    }
   ],
   "source": [
    "from scipy.stats import pearsonr\n",
    "'''\n",
    "This cell is used to hipotesis testing pearson Test to check correlation \n",
    "between discount and sales\n",
    "''' \n",
    "correlation_coefficient, p_value = pearsonr(df_analyst['sales'], df_analyst['discount'])\n",
    "print(\"P-value:\",p_value)\n",
    "print(\"correlation_coefficient:\",correlation_coefficient)"
   ]
  },
  {
   "cell_type": "markdown",
   "metadata": {},
   "source": [
    "Because <b>sales</b> and <b>discount</b> is numerical and column sales has not normal distribution data So i am using method pearson to check correlation between discount and sales, The hipotesa i make should be like this : <br>\n",
    "H0 : There is no relationship between 'discount' and 'sales' <br>\n",
    "H1 : There is relationship between 'discount' and 'sales' <br>"
   ]
  },
  {
   "cell_type": "markdown",
   "metadata": {},
   "source": [
    "Because p-value > critical_value ( 0.8 > 0.05) then H0 is failed to rejected. Which mean There is no significant relationship between discount and sales. "
   ]
  },
  {
   "cell_type": "code",
   "execution_count": 45,
   "metadata": {},
   "outputs": [
    {
     "name": "stdout",
     "output_type": "stream",
     "text": [
      "P-value: 0.007886331938454174\n"
     ]
    }
   ],
   "source": [
    "'''\n",
    "This cell is used to hipotesis testing Anova Test to check correlation \n",
    "between discount and order_status\n",
    "''' \n",
    "df_analyst['order_status'].unique()\n",
    "order_finished = df_analyst[df_analyst['order_status'] == 'Order Finished']['discount']\n",
    "order_returned = df_analyst[df_analyst['order_status'] == 'Order Returned']['discount']\n",
    "order_cancel = df_analyst[df_analyst['order_status'] == 'Order Cancelled']['discount']\n",
    "# contingency_table = pd.crosstab(df_analyst['discount'],df_analyst['order_status'])\n",
    "res = stats.f_oneway(order_finished,order_returned,order_cancel)\n",
    "print(\"P-value:\",res.pvalue)"
   ]
  },
  {
   "cell_type": "markdown",
   "metadata": {},
   "source": [
    "Because i want to hipotesis testing correlaction between discount(numerical) and order_status(categorial) I am using method anova for check correlation between discount and order status. The hipotesis i make should be like this : <br>\n",
    "H0 : There is no relationship between 'discount' and 'order_status' <br>\n",
    "H1 : There is relationship between 'discount' and 'order_status'<br><br>\n",
    "\n",
    "Because p-value < critical_value ( 0.007 < 0.5) then H0 is rejected. Which mean There is relationship between discount and order status"
   ]
  },
  {
   "cell_type": "markdown",
   "metadata": {},
   "source": [
    "<h1>5. Conclusion</h1>"
   ]
  },
  {
   "cell_type": "markdown",
   "metadata": {},
   "source": [
    "<p>\n",
    "    After i do analyze about data, There are many insight that we can get: \n",
    "    <ol>\n",
    "        <li>\n",
    "        Most people will buy product <b>category</b> for one transaction order with 4 quantity, <b>Office Supplies</b> with 23 quantity, and <b>Technology</b> with 31 quantity.<br> Because column \"order_quantity\" has normal distribution we can also look their means like <b>category</b> with 24 quantity, <b>Office Supplies</b> with 25 quantity, and <b>Technology</b> with 24 quantity  \n",
    "        </li>\n",
    "        <li>\n",
    "            Each year we can see that order status who failed because returned or canceled has little up from 2009 to 2010. But in year 2010 - 2012 orde_status who failed has significant decrased from 131 to 124\n",
    "        </li>\n",
    "        <li>\n",
    "            From our visualization data we can our 5 top customer that has almost same distribution for sales from 2009 - 2012. There are Sonia Sunley(22%), Brad Thomas(21%), Tanja Norvell (20%), Sally Knutson (18%), and Jim Epp (18%)\n",
    "        </li>\n",
    "        <li>\n",
    "            Each year we can see sales and order quantity has a same pattern. From 2009-2011 Sales has decrased performance from Rp 2.548.924.572 to Rp 2.212.752.131 and order quantity from 31.785 to 30.240 . But From 2011 - 2012 it has significant improve sales that more than year 2009 from Rp 2.212.752.131 to Rp 2.605.470.094 and order quantity from 30.240 to 32.642\n",
    "        </li>\n",
    "        <li>\n",
    "            From Graph product category performance per year, we can get insight per category : <br>\n",
    "            - Category Furniture has lower progress from 2009 until 2012  <br>\n",
    "            - Category Office Supoplies has lower progress from year between 2009 and 2010. but has significant good progress in year between 2010 and 2012 <br>\n",
    "            - Category Technology has significant bad progress in year between 2009 and 2011, but has significant good progress in year between 2011 and 2012 <br>\n",
    "        </li>\n",
    "        <li>\n",
    "            From our analysis inferential we can see that discount doesn't have correlation with sales and discount has correlation with order_status\n",
    "        </li>\n",
    "    </ol> \n",
    "    <p>\n",
    "        From these insight, i can recommend some action to incrase sales and decrase order status that failed. There are:<br>\n",
    "        <ol>\n",
    "            <li>We can do promo by specific amount quantity for one transaction. Fo example we can do promo discount for everyone who buy product with category \"Office Supplies\" by minimum quantity 23. </li>\n",
    "            <li>We can give special price to our top customer, so it can increase order_quantity and also sales. It also good to keep customer loyalty and make sensation of competition with other customer</li>\n",
    "            <li>We can see that discount doesnt really matter with sales, so we can downgrade for discount to make discount value smaller and increase sales. And discount has correlation with order_status and after i check briefly when the higher discount , the more order is failed. So we can downgrade discount for that reason.\n",
    "        </ol>\n",
    "    </p>\n",
    "</p>"
   ]
  }
 ],
 "metadata": {
  "kernelspec": {
   "display_name": "base",
   "language": "python",
   "name": "python3"
  },
  "language_info": {
   "codemirror_mode": {
    "name": "ipython",
    "version": 3
   },
   "file_extension": ".py",
   "mimetype": "text/x-python",
   "name": "python",
   "nbconvert_exporter": "python",
   "pygments_lexer": "ipython3",
   "version": "3.11.7"
  }
 },
 "nbformat": 4,
 "nbformat_minor": 2
}
